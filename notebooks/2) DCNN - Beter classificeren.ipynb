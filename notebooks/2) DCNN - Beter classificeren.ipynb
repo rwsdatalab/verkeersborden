{
 "cells": [
  {
   "cell_type": "markdown",
   "metadata": {},
   "source": [
    "# Beter verkeersborden herkennen: Het DCNN"
   ]
  },
  {
   "cell_type": "markdown",
   "metadata": {},
   "source": [
    "Deep Neural Networks (DNN's) zijn neurale netwerken met veel lagen. Deep Convolutional Neural Networks (DCNN's) zijn diepe netwerken ontworpen om convoluties (lokale transformatie functies) te leren. Deze laatste netwerken zijn op het moment de state of the art. \n",
    "\n",
    "![Convolutie](images/convolution-calculate.png)\n",
    "\n",
    "Door convoluties te stapelen kan een netwerk als het filters leren voor complexe objecten (Bijvoorbeeld: Een stoel is een combinatie van stoelpoten en een zetel, een stoelpoot is een combinatie van rechte evenwijdige lijnen)\n",
    "\n",
    "![Filters](images/Hl2H6.png)\n",
    "\n",
    "## Tweede poging: Verkeersborden classificeren\n",
    "In deel I hebben we een netwerk gebouwd dat rond de 65% van de borden herkent. Het netwerk leerde snel, maar de prestaties liepen wat uiteen.\n",
    "\n",
    "Je zal zien dat met een paar kleine ingrepen we aardig beter gaan presteren."
   ]
  },
  {
   "cell_type": "code",
   "execution_count": 1,
   "metadata": {},
   "outputs": [
    {
     "name": "stderr",
     "output_type": "stream",
     "text": [
      "/home/stijn/anaconda2/envs/tensortut/lib/python3.5/site-packages/skimage/transform/_warps.py:84: UserWarning: The default mode, 'constant', will be changed to 'reflect' in skimage 0.15.\n",
      "  warn(\"The default mode, 'constant', will be changed to 'reflect' in \"\n"
     ]
    }
   ],
   "source": [
    "import os\n",
    "import random\n",
    "import skimage.transform\n",
    "import skimage.data\n",
    "import matplotlib\n",
    "import matplotlib.pyplot as plt\n",
    "import numpy as np\n",
    "import tensorflow as tf\n",
    "\n",
    "# Allow image embeding in notebook\n",
    "%matplotlib inline\n",
    "\n",
    "def load_data(data_dir):\n",
    "    \"\"\"Loads a data set and returns two lists:\n",
    "    \n",
    "    images: a list of Numpy arrays, each representing an image.\n",
    "    labels: a list of numbers that represent the images labels.\n",
    "    \"\"\"\n",
    "    # Get all subdirectories of data_dir. Each represents a label.\n",
    "    directories = [d for d in os.listdir(data_dir) \n",
    "                   if os.path.isdir(os.path.join(data_dir, d))]\n",
    "    # Loop through the label directories and collect the data in\n",
    "    # two lists, labels and images.\n",
    "    labels = []\n",
    "    images = []\n",
    "    for d in directories:\n",
    "        label_dir = os.path.join(data_dir, d)\n",
    "        file_names = [os.path.join(label_dir, f) \n",
    "                      for f in os.listdir(label_dir) if f.endswith(\".ppm\")]\n",
    "        # For each label, load it's images and add them to the images list.\n",
    "        # And add the label number (i.e. directory name) to the labels list.\n",
    "        for f in file_names:\n",
    "            images.append(skimage.data.imread(f))\n",
    "            labels.append(int(d))\n",
    "    images32 = [skimage.transform.resize(image, (32, 32)) for image in images]\n",
    "    return images32, labels\n",
    "\n",
    "# Load training and testing datasets.\n",
    "ROOT_PATH = \"./\"\n",
    "train_data_dir = os.path.join(ROOT_PATH, \"datasets/BelgiumTS/Training\")\n",
    "test_data_dir = os.path.join(ROOT_PATH, \"datasets/BelgiumTS/Testing\")\n",
    "\n",
    "images, labels = load_data(train_data_dir)"
   ]
  },
  {
   "cell_type": "markdown",
   "metadata": {},
   "source": [
    "# Het DCNN\n",
    "Een DCNN is in feite een neuraal netwerk met meer dan 2 tussenlagen met minstens een convolutielaag. Maar daarnaast zijn er nog genoeg kleine aanpassingen die het model beter maken, zoals: Tussentijdse pooling en dropout layers. \n",
    "\n",
    "Eerst maken we een paar utilfuncties die ons straks gaan helpen:"
   ]
  },
  {
   "cell_type": "code",
   "execution_count": 2,
   "metadata": {},
   "outputs": [],
   "source": [
    "#To create this model, we're going to need to create a lot of weights and biases. \n",
    "#One should generally initialize weights with a small amount of noise for symmetry breaking, \n",
    "#and to prevent 0 gradients. Since we're using ReLU neurons, \n",
    "#it is also good practice to initialize them with a slightly positive initial bias to avoid \"dead neurons\". \n",
    "#Instead of doing this repeatedly while we build the model, let's create two handy functions to do it for us.\n",
    "\n",
    "def weight_variable(shape):\n",
    "    initial = tf.truncated_normal(shape, stddev=0.1)\n",
    "    return tf.Variable(initial)\n",
    "\n",
    "def bias_variable(shape):\n",
    "    initial = tf.constant(0.1, shape=shape)\n",
    "    return tf.Variable(initial)\n",
    "\n",
    "#TensorFlow also gives us a lot of flexibility in convolution and pooling operations. \n",
    "#How do we handle the boundaries? What is our stride size? In this example, \n",
    "#we're always going to choose the vanilla version. \n",
    "#Our convolutions uses a stride of one and are zero padded so that the output is the same size as the input. \n",
    "#Our pooling is plain old max pooling over 2x2 blocks. To keep our code cleaner, \n",
    "#let's also abstract those operations into functions.\n",
    "\n",
    "def conv2d(x, W):\n",
    "    return tf.nn.conv2d(x, W, strides=[1, 1, 1, 1], padding='SAME')\n",
    "\n",
    "def max_pool_2x2(x):\n",
    "    return tf.nn.max_pool(x, ksize=[1, 2, 2, 1],\n",
    "                        strides=[1, 2, 2, 1], padding='SAME')\n",
    "\n",
    "def indices_to_one_hot(data, nb_classes):\n",
    "    \"\"\"Convert an iterable of indices to one-hot encoded labels.\"\"\"\n",
    "    targets = np.array(data).reshape(-1)\n",
    "    return np.eye(nb_classes)[targets]"
   ]
  },
  {
   "cell_type": "code",
   "execution_count": 3,
   "metadata": {},
   "outputs": [
    {
     "name": "stdout",
     "output_type": "stream",
     "text": [
      "labels:  (4575, 62) \n",
      "images:  (4575, 32, 32, 3)\n"
     ]
    }
   ],
   "source": [
    "labels_a = indices_to_one_hot(labels,62)\n",
    "images_a = np.array(images)\n",
    "print(\"labels: \", labels_a.shape, \"\\nimages: \", images_a.shape)"
   ]
  },
  {
   "cell_type": "markdown",
   "metadata": {},
   "source": [
    " Dan definieren we het deep net, zoals hier onder weergegeven:\n",
    "        \n",
    "![DCNN](images/mnist_deep.png)\n",
    "        \n",
    "Althans dit wordt gezien als een bescheiden diep netwerk..."
   ]
  },
  {
   "cell_type": "code",
   "execution_count": 4,
   "metadata": {},
   "outputs": [],
   "source": [
    "# Create a graph to hold the model.\n",
    "graph = tf.Graph()\n",
    "\n",
    "# Create model in the graph.\n",
    "with graph.as_default():\n",
    "    # Placeholders for inputs and labels.\n",
    "    images_ph = tf.placeholder(tf.float32, [None, 32, 32, 3])\n",
    "    labels_ph = tf.placeholder(tf.int32, [None,62])\n",
    "    images = tf.reshape(images_ph, [-1, 32, 32, 3])\n",
    "    \n",
    "    #two conv & pooling pairs\n",
    "    h_conv1 = tf.nn.relu(conv2d(images, weight_variable([3, 3, 3, 32])) + bias_variable([32]))\n",
    "    h_pool1 = max_pool_2x2(h_conv1)\n",
    "    h_conv2 = tf.nn.relu(conv2d(h_pool1, weight_variable([5, 5, 32, 64])) + bias_variable([64]))\n",
    "    h_pool2 = max_pool_2x2(h_conv2)\n",
    "    \n",
    "    #Now that the image size has been reduced to 8x8, we add a fully-connected layer with 1024 neurons \n",
    "    #to allow processing on the entire image. \n",
    "    #We reshape the tensor from the pooling layer into a batch of vectors, \n",
    "    #multiply by a weight matrix, add a bias, and apply a ReLU.\n",
    "    h_pool2_flat = tf.reshape(h_pool2, [-1, 8*8*64])\n",
    "    h_fc1 = tf.nn.relu(tf.matmul(h_pool2_flat, weight_variable([8 * 8 * 64, 1024])) + bias_variable([1024]))\n",
    "\n",
    "    #To reduce overfitting, we will apply dropout before the readout layer. \n",
    "    #We create a placeholder for the probability that a neuron's output is kept during dropout. \n",
    "    #This allows us to turn dropout on during training, and turn it off during testing. \n",
    "    #TensorFlow's tf.nn.dropout op automatically handles scaling neuron outputs in addition to masking them, \n",
    "    #so dropout just works without any additional scaling.\n",
    "    keep_prob = tf.placeholder(tf.float32)\n",
    "    h_fc1_drop = tf.nn.dropout(h_fc1, keep_prob)\n",
    "\n",
    "    #Finally, we add a layer for softmax regression.\n",
    "    y_conv = tf.matmul(h_fc1_drop, weight_variable([1024, 62])) + bias_variable([62])    \n",
    "    \n",
    "    #variables for training and evaluation\n",
    "    cross_entropy = tf.reduce_mean(tf.nn.softmax_cross_entropy_with_logits(labels=labels_ph, logits=y_conv))\n",
    "    train = tf.train.AdamOptimizer(learning_rate=0.001).minimize(cross_entropy)\n",
    "    correct_prediction = tf.equal(tf.argmax(y_conv, 1), tf.argmax(labels_ph, 1))\n",
    "    accuracy = tf.reduce_mean(tf.cast(correct_prediction, tf.float32))   \n",
    "    \n",
    "    init = tf.initialize_all_variables()\n"
   ]
  },
  {
   "cell_type": "markdown",
   "metadata": {},
   "source": [
    "## Training\n",
    "We gaan het model nu 200 keer trainen. (We gebruiken de ADAM optimizer om de cross-entropy zo laag mogelijk te krijgen)"
   ]
  },
  {
   "cell_type": "code",
   "execution_count": 5,
   "metadata": {},
   "outputs": [],
   "source": [
    "# Create a session to run the graph we created.\n",
    "session = tf.Session(graph=graph)\n",
    "\n",
    "# First step is always to initialize all variables. \n",
    "# We don't care about the return value, though. It's None.\n",
    "_ = session.run([init])"
   ]
  },
  {
   "cell_type": "code",
   "execution_count": null,
   "metadata": {
    "scrolled": false
   },
   "outputs": [],
   "source": [
    "for i in range(201): #201\n",
    "    _, loss_value = session.run([train, cross_entropy], \n",
    "                                feed_dict={images_ph: images_a, labels_ph: labels_a, keep_prob: 0.5})\n",
    "    if i % 30 == 0:\n",
    "        print(\"Loss: \", loss_value)"
   ]
  },
  {
   "cell_type": "markdown",
   "metadata": {},
   "source": [
    "## Evaluatie\n",
    "\n",
    "Eens kijken of we nu beter scoren"
   ]
  },
  {
   "cell_type": "code",
   "execution_count": 35,
   "metadata": {},
   "outputs": [
    {
     "name": "stderr",
     "output_type": "stream",
     "text": [
      "/home/stijn/anaconda2/envs/tensortut/lib/python3.5/site-packages/skimage/transform/_warps.py:84: UserWarning: The default mode, 'constant', will be changed to 'reflect' in skimage 0.15.\n",
      "  warn(\"The default mode, 'constant', will be changed to 'reflect' in \"\n"
     ]
    },
    {
     "name": "stdout",
     "output_type": "stream",
     "text": [
      "Truth:        38 Prediction: 39\n",
      "Truth:        38 Prediction: 39\n",
      "Truth:        38 Prediction: 39\n",
      "Truth:        38 Prediction: 39\n",
      "Truth:        38 Prediction: 40\n",
      "Truth:        38 Prediction: 40\n",
      "Truth:        38 Prediction: 35\n",
      "Truth:        23 Prediction: 28\n",
      "Truth:        23 Prediction: 28\n",
      "Truth:        23 Prediction: 28\n",
      "Truth:        23 Prediction: 28\n",
      "Truth:        23 Prediction: 32\n",
      "Truth:        23 Prediction: 28\n",
      "Truth:        14 Prediction: 16\n",
      "Truth:        14 Prediction: 7\n",
      "Truth:        17 Prediction: 7\n",
      "Truth:        17 Prediction: 7\n",
      "Truth:        16 Prediction: 14\n",
      "Truth:        16 Prediction: 18\n",
      "Truth:        16 Prediction: 14\n",
      "Truth:        16 Prediction: 18\n",
      "Truth:        16 Prediction: 14\n",
      "Truth:        16 Prediction: 18\n",
      "Truth:        16 Prediction: 14\n",
      "Truth:        16 Prediction: 18\n",
      "Truth:        56 Prediction: 57\n",
      "Truth:        39 Prediction: 38\n",
      "Truth:        3 Prediction: 13\n",
      "Truth:        3 Prediction: 13\n",
      "Truth:        3 Prediction: 13\n",
      "Truth:        58 Prediction: 35\n",
      "Truth:        58 Prediction: 35\n",
      "Truth:        58 Prediction: 35\n",
      "Truth:        58 Prediction: 35\n",
      "Truth:        46 Prediction: 45\n",
      "Truth:        46 Prediction: 47\n",
      "Truth:        46 Prediction: 45\n",
      "Truth:        46 Prediction: 45\n",
      "Truth:        42 Prediction: 40\n",
      "Truth:        42 Prediction: 40\n",
      "Truth:        42 Prediction: 40\n",
      "Truth:        5 Prediction: 3\n",
      "Truth:        5 Prediction: 3\n",
      "Truth:        6 Prediction: 7\n",
      "Truth:        6 Prediction: 18\n",
      "Truth:        6 Prediction: 7\n",
      "Truth:        6 Prediction: 7\n",
      "Truth:        6 Prediction: 4\n",
      "Truth:        6 Prediction: 7\n",
      "Truth:        45 Prediction: 46\n",
      "Truth:        45 Prediction: 46\n",
      "Truth:        45 Prediction: 50\n",
      "Truth:        45 Prediction: 47\n",
      "Truth:        45 Prediction: 47\n",
      "Truth:        45 Prediction: 46\n",
      "Truth:        45 Prediction: 46\n",
      "Truth:        45 Prediction: 46\n",
      "Truth:        45 Prediction: 47\n",
      "Truth:        57 Prediction: 56\n",
      "Truth:        57 Prediction: 53\n",
      "Truth:        57 Prediction: 56\n",
      "Truth:        57 Prediction: 56\n",
      "Truth:        57 Prediction: 56\n",
      "Truth:        57 Prediction: 56\n",
      "Truth:        2 Prediction: 13\n",
      "Truth:        2 Prediction: 14\n",
      "Truth:        2 Prediction: 13\n",
      "Truth:        2 Prediction: 18\n",
      "Truth:        2 Prediction: 13\n",
      "Truth:        2 Prediction: 13\n",
      "Truth:        7 Prediction: 18\n",
      "Truth:        7 Prediction: 18\n",
      "Truth:        7 Prediction: 18\n",
      "Truth:        7 Prediction: 18\n",
      "Truth:        7 Prediction: 18\n",
      "Truth:        0 Prediction: 1\n",
      "Truth:        0 Prediction: 1\n",
      "Truth:        0 Prediction: 1\n",
      "Truth:        0 Prediction: 1\n",
      "Truth:        13 Prediction: 32\n",
      "Truth:        13 Prediction: 56\n",
      "Truth:        13 Prediction: 32\n",
      "Truth:        20 Prediction: 24\n",
      "Truth:        18 Prediction: 17\n",
      "Truth:        18 Prediction: 7\n",
      "Truth:        18 Prediction: 8\n",
      "Truth:        18 Prediction: 17\n",
      "Truth:        18 Prediction: 17\n",
      "Truth:        18 Prediction: 10\n",
      "Truth:        18 Prediction: 10\n",
      "Truth:        18 Prediction: 8\n",
      "Truth:        18 Prediction: 10\n",
      "Truth:        43 Prediction: 42\n",
      "Truth:        43 Prediction: 42\n",
      "Truth:        43 Prediction: 42\n",
      "Truth:        43 Prediction: 42\n",
      "Truth:        43 Prediction: 42\n",
      "Truth:        43 Prediction: 42\n",
      "Truth:        53 Prediction: 39\n",
      "Truth:        21 Prediction: 28\n",
      "Truth:        21 Prediction: 22\n",
      "Truth:        21 Prediction: 22\n",
      "Truth:        24 Prediction: 25\n",
      "Truth:        24 Prediction: 25\n",
      "Truth:        24 Prediction: 25\n",
      "Truth:        4 Prediction: 8\n",
      "Truth:        4 Prediction: 18\n",
      "Truth:        4 Prediction: 7\n",
      "Truth:        4 Prediction: 18\n",
      "Truth:        4 Prediction: 18\n",
      "Truth:        4 Prediction: 18\n",
      "Truth:        55 Prediction: 56\n",
      "Truth:        8 Prediction: 13\n",
      "Truth:        8 Prediction: 18\n",
      "Truth:        8 Prediction: 13\n",
      "Truth:        8 Prediction: 4\n",
      "Truth:        8 Prediction: 3\n",
      "Truth:        60 Prediction: 61\n",
      "Truth:        60 Prediction: 21\n",
      "Truth:        60 Prediction: 61\n",
      "Truth:        60 Prediction: 61\n",
      "Truth:        60 Prediction: 21\n",
      "Truth:        49 Prediction: 47\n",
      "Truth:        49 Prediction: 47\n",
      "Truth:        59 Prediction: 56\n",
      "Truth:        27 Prediction: 32\n",
      "Truth:        27 Prediction: 32\n",
      "Truth:        27 Prediction: 24\n",
      "Truth:        27 Prediction: 32\n",
      "Truth:        12 Prediction: 7\n",
      "Truth:        12 Prediction: 18\n",
      "Truth:        12 Prediction: 18\n",
      "Truth:        10 Prediction: 22\n",
      "Truth:        10 Prediction: 7\n",
      "Truth:        10 Prediction: 14\n",
      "Truth:        10 Prediction: 14\n",
      "Truth:        10 Prediction: 14\n",
      "Truth:        10 Prediction: 17\n",
      "Truth:        32 Prediction: 14\n",
      "Truth:        32 Prediction: 19\n",
      "Truth:        35 Prediction: 38\n",
      "Truth:        35 Prediction: 38\n",
      "Truth:        35 Prediction: 38\n",
      "Truth:        35 Prediction: 34\n",
      "Truth:        35 Prediction: 38\n",
      "Truth:        35 Prediction: 38\n",
      "Truth:        35 Prediction: 38\n",
      "Truth:        35 Prediction: 38\n",
      "Truth:        35 Prediction: 38\n",
      "Truth:        35 Prediction: 28\n",
      "Truth:        35 Prediction: 38\n",
      "Truth:        35 Prediction: 38\n",
      "Truth:        35 Prediction: 38\n",
      "Truth:        35 Prediction: 56\n",
      "Truth:        35 Prediction: 38\n",
      "Truth:        35 Prediction: 38\n",
      "Truth:        35 Prediction: 38\n",
      "Truth:        35 Prediction: 38\n",
      "Truth:        35 Prediction: 38\n",
      "Truth:        35 Prediction: 38\n",
      "Truth:        35 Prediction: 54\n",
      "Truth:        35 Prediction: 38\n",
      "Truth:        35 Prediction: 38\n",
      "Truth:        35 Prediction: 38\n",
      "Truth:        35 Prediction: 38\n",
      "Truth:        35 Prediction: 38\n"
     ]
    },
    {
     "data": {
      "image/png": "[encoded data removed]",
      "text/plain": [
       "<matplotlib.figure.Figure at 0x7f71eed1b5c0>"
      ]
     },
     "metadata": {},
     "output_type": "display_data"
    }
   ],
   "source": [
    "# Load the test dataset.\n",
    "test_images, test_labels = load_data(test_data_dir)\n",
    "#test_labels_1h =  indices_to_one_hot(test_labels,62)\n",
    "\n",
    "predicted = session.run([tf.argmax(y_conv,1)], \n",
    "                        feed_dict={images_ph: test_images, keep_prob: 1})[0]\n",
    "\n",
    "for i in range(len(predicted)):\n",
    "    if predicted[i] != test_labels[i]:\n",
    "        plt.imshow(test_images[i])\n",
    "        print(\"Truth:        {0} Prediction: {1}\".format(test_labels[i], predicted[i]))\n",
    "    #truth = sample_labels[i]\n",
    "    #prediction = predicted[i]\n",
    "    #plt.subplot(5, 2,1+i)\n",
    "    #plt.axis('off')\n",
    "    #color='green' if truth == prediction else 'red'\n",
    "    #plt.text(40, 10, \"Truth:        {0}\\nPrediction: {1}\".format(truth, prediction), \n",
    "    #         fontsize=12, color=color)\n",
    "    #plt.imshow(sample_images[i])"
   ]
  },
  {
   "cell_type": "code",
   "execution_count": 21,
   "metadata": {},
   "outputs": [
    {
     "name": "stderr",
     "output_type": "stream",
     "text": [
      "/home/stijn/anaconda2/envs/tensortut/lib/python3.5/site-packages/skimage/transform/_warps.py:84: UserWarning: The default mode, 'constant', will be changed to 'reflect' in skimage 0.15.\n",
      "  warn(\"The default mode, 'constant', will be changed to 'reflect' in \"\n"
     ]
    },
    {
     "name": "stdout",
     "output_type": "stream",
     "text": [
      "0.934127\n"
     ]
    }
   ],
   "source": [
    "# Load the test dataset.\n",
    "test_images, test_labels = load_data(test_data_dir)\n",
    "test_labels =  indices_to_one_hot(test_labels,62)\n",
    "\n",
    "# Run predictions against the full test set.\n",
    "acc = session.run([accuracy], feed_dict={images_ph: test_images, labels_ph: test_labels, keep_prob: 1.0})[0]\n",
    "print(acc)"
   ]
  },
  {
   "cell_type": "code",
   "execution_count": 84,
   "metadata": {
    "collapsed": true
   },
   "outputs": [],
   "source": [
    "# Close the session. This will destroy the trained model.\n",
    "session.close()"
   ]
  }
 ],
 "metadata": {
  "kernelspec": {
   "display_name": "Python 3",
   "language": "python",
   "name": "python3"
  },
  "language_info": {
   "codemirror_mode": {
    "name": "ipython",
    "version": 3
   },
   "file_extension": ".py",
   "mimetype": "text/x-python",
   "name": "python",
   "nbconvert_exporter": "python",
   "pygments_lexer": "ipython3",
   "version": "3.5.4"
  }
 },
 "nbformat": 4,
 "nbformat_minor": 1
}
